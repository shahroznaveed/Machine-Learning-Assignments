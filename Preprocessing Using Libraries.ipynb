{
  "cells": [
    {
      "cell_type": "markdown",
      "metadata": {
        "id": "KMrIUHX2qV4e"
      },
      "source": [
        "\n",
        "# **Car Price prediction**\n",
        "\n",
        "- First step was to collect the data\n",
        "- We scrapped pakwheels.com and gathered around 58,000 entries.\n",
        "- Then, we started by loaded the data in pandas dataFrame, after that performed data analysis.\n",
        "- Removed the attributes that were not useful like the Link, Ad No, Last Updated, Features and Location\n",
        "- Removed the rows that have a missing value\n",
        "- Used Label Encode to Encode the categorical data\n"
      ]
    },
    {
      "cell_type": "markdown",
      "metadata": {},
      "source": [
        "# **Business problem**\n",
        "\n",
        "- The primary objective is to develop a machine learning model that can predict the price of used cars listed on PakWheels with a high degree of accuracy. This model will assist both buyers and sellers in making informed decisions about pricing and negotiations.\n",
        "- For sellers, it will ensure that their cars are competitively priced to attract potential buyers\n",
        "- For buyers, it will help in understanding the fair value of a car based on its characteristics.\n"
      ]
    },
    {
      "cell_type": "code",
      "execution_count": 3,
      "metadata": {
        "colab": {
          "base_uri": "https://localhost:8080/",
          "height": 539
        },
        "id": "RVFpBRfoqV4h",
        "outputId": "8dbcb0ef-e0ed-43b3-f41d-649ea08ad677"
      },
      "outputs": [
        {
          "data": {
            "text/html": [
              "<div>\n",
              "<style scoped>\n",
              "    .dataframe tbody tr th:only-of-type {\n",
              "        vertical-align: middle;\n",
              "    }\n",
              "\n",
              "    .dataframe tbody tr th {\n",
              "        vertical-align: top;\n",
              "    }\n",
              "\n",
              "    .dataframe thead th {\n",
              "        text-align: right;\n",
              "    }\n",
              "</style>\n",
              "<table border=\"1\" class=\"dataframe\">\n",
              "  <thead>\n",
              "    <tr style=\"text-align: right;\">\n",
              "      <th></th>\n",
              "      <th>Ad No</th>\n",
              "      <th>Name</th>\n",
              "      <th>Price</th>\n",
              "      <th>Model Year</th>\n",
              "      <th>Location</th>\n",
              "      <th>Mileage</th>\n",
              "      <th>Registered City</th>\n",
              "      <th>Engine Type</th>\n",
              "      <th>Engine Capacity</th>\n",
              "      <th>Transmission</th>\n",
              "      <th>Color</th>\n",
              "      <th>Assembly</th>\n",
              "      <th>Body Type</th>\n",
              "      <th>Features</th>\n",
              "      <th>Last Updated</th>\n",
              "      <th>URL</th>\n",
              "    </tr>\n",
              "  </thead>\n",
              "  <tbody>\n",
              "    <tr>\n",
              "      <th>0</th>\n",
              "      <td>7472110</td>\n",
              "      <td>Chevrolet Joy 1.0 2008</td>\n",
              "      <td>975000.0</td>\n",
              "      <td>2008</td>\n",
              "      <td>I-10, Islamabad Islamabad</td>\n",
              "      <td>144800</td>\n",
              "      <td>Islamabad</td>\n",
              "      <td>Petrol</td>\n",
              "      <td>1000 cc</td>\n",
              "      <td>Manual</td>\n",
              "      <td>Gold</td>\n",
              "      <td>Imported</td>\n",
              "      <td>Hatchback</td>\n",
              "      <td>AM/FM Radio, CD Player, Cassette Player, Keyl...</td>\n",
              "      <td>Jun 25, 2023</td>\n",
              "      <td>https://www.pakwheels.com/used-cars/chevrolet-...</td>\n",
              "    </tr>\n",
              "    <tr>\n",
              "      <th>1</th>\n",
              "      <td>7597614</td>\n",
              "      <td>Toyota Corolla GLi 1.3 VVTi 2016</td>\n",
              "      <td>3375000.0</td>\n",
              "      <td>2016</td>\n",
              "      <td>Shorkot, Shorkot Punjab</td>\n",
              "      <td>122000</td>\n",
              "      <td>Lahore</td>\n",
              "      <td>Petrol</td>\n",
              "      <td>1300 cc</td>\n",
              "      <td>Manual</td>\n",
              "      <td>White</td>\n",
              "      <td>Local</td>\n",
              "      <td>Sedan</td>\n",
              "      <td>AM/FM Radio, Air Conditioning, CD Player, DVD...</td>\n",
              "      <td>Jun 25, 2023</td>\n",
              "      <td>https://www.pakwheels.com/used-cars/toyota-cor...</td>\n",
              "    </tr>\n",
              "    <tr>\n",
              "      <th>2</th>\n",
              "      <td>7280186</td>\n",
              "      <td>Honda BR-V i-VTEC S 2018</td>\n",
              "      <td>4800000.0</td>\n",
              "      <td>2018</td>\n",
              "      <td>NFC 1, Lahore Punjab</td>\n",
              "      <td>18731</td>\n",
              "      <td>Lahore</td>\n",
              "      <td>Petrol</td>\n",
              "      <td>1500 cc</td>\n",
              "      <td>Automatic</td>\n",
              "      <td>Crystal Black Pearl</td>\n",
              "      <td>Local</td>\n",
              "      <td>MPV</td>\n",
              "      <td>ABS, AM/FM Radio, Air Bags, Air Conditioning,...</td>\n",
              "      <td>Jun 25, 2023</td>\n",
              "      <td>https://www.pakwheels.com/used-cars/honda-br-v...</td>\n",
              "    </tr>\n",
              "    <tr>\n",
              "      <th>3</th>\n",
              "      <td>7319452</td>\n",
              "      <td>Suzuki Mehran VX 2010</td>\n",
              "      <td>680000.0</td>\n",
              "      <td>2010</td>\n",
              "      <td>Pak Arab Housing Society, Lahore Punjab</td>\n",
              "      <td>76316</td>\n",
              "      <td>Bahawalpur</td>\n",
              "      <td>Petrol</td>\n",
              "      <td>800 cc</td>\n",
              "      <td>Manual</td>\n",
              "      <td>Blue</td>\n",
              "      <td>Local</td>\n",
              "      <td>Hatchback</td>\n",
              "      <td>Front Speakers</td>\n",
              "      <td>Jun 25, 2023</td>\n",
              "      <td>https://www.pakwheels.com/used-cars/suzuki-meh...</td>\n",
              "    </tr>\n",
              "    <tr>\n",
              "      <th>4</th>\n",
              "      <td>7352581</td>\n",
              "      <td>MG HS 1.5 Turbo 2022</td>\n",
              "      <td>8000000.0</td>\n",
              "      <td>2022</td>\n",
              "      <td>DHA Defence, Lahore Punjab</td>\n",
              "      <td>16950</td>\n",
              "      <td>Punjab</td>\n",
              "      <td>Petrol</td>\n",
              "      <td>1490 cc</td>\n",
              "      <td>Automatic</td>\n",
              "      <td>Black</td>\n",
              "      <td>Local</td>\n",
              "      <td>Crossover</td>\n",
              "      <td>ABS, AM/FM Radio, Air Bags, Air Conditioning,...</td>\n",
              "      <td>Jun 25, 2023</td>\n",
              "      <td>https://www.pakwheels.com/used-cars/mg-hs-2022...</td>\n",
              "    </tr>\n",
              "  </tbody>\n",
              "</table>\n",
              "</div>"
            ],
            "text/plain": [
              "     Ad No                              Name      Price  Model Year  \\\n",
              "0  7472110            Chevrolet Joy 1.0 2008   975000.0        2008   \n",
              "1  7597614  Toyota Corolla GLi 1.3 VVTi 2016  3375000.0        2016   \n",
              "2  7280186          Honda BR-V i-VTEC S 2018  4800000.0        2018   \n",
              "3  7319452             Suzuki Mehran VX 2010   680000.0        2010   \n",
              "4  7352581              MG HS 1.5 Turbo 2022  8000000.0        2022   \n",
              "\n",
              "                                   Location  Mileage Registered City  \\\n",
              "0                 I-10, Islamabad Islamabad   144800       Islamabad   \n",
              "1                   Shorkot, Shorkot Punjab   122000          Lahore   \n",
              "2                      NFC 1, Lahore Punjab    18731          Lahore   \n",
              "3   Pak Arab Housing Society, Lahore Punjab    76316      Bahawalpur   \n",
              "4                DHA Defence, Lahore Punjab    16950          Punjab   \n",
              "\n",
              "  Engine Type Engine Capacity Transmission                Color  Assembly  \\\n",
              "0      Petrol         1000 cc       Manual                 Gold  Imported   \n",
              "1      Petrol         1300 cc       Manual                White     Local   \n",
              "2      Petrol         1500 cc    Automatic  Crystal Black Pearl     Local   \n",
              "3      Petrol          800 cc       Manual                 Blue     Local   \n",
              "4      Petrol         1490 cc    Automatic                Black     Local   \n",
              "\n",
              "   Body Type                                           Features  Last Updated  \\\n",
              "0  Hatchback   AM/FM Radio, CD Player, Cassette Player, Keyl...  Jun 25, 2023   \n",
              "1      Sedan   AM/FM Radio, Air Conditioning, CD Player, DVD...  Jun 25, 2023   \n",
              "2        MPV   ABS, AM/FM Radio, Air Bags, Air Conditioning,...  Jun 25, 2023   \n",
              "3  Hatchback                                     Front Speakers  Jun 25, 2023   \n",
              "4  Crossover   ABS, AM/FM Radio, Air Bags, Air Conditioning,...  Jun 25, 2023   \n",
              "\n",
              "                                                 URL  \n",
              "0  https://www.pakwheels.com/used-cars/chevrolet-...  \n",
              "1  https://www.pakwheels.com/used-cars/toyota-cor...  \n",
              "2  https://www.pakwheels.com/used-cars/honda-br-v...  \n",
              "3  https://www.pakwheels.com/used-cars/suzuki-meh...  \n",
              "4  https://www.pakwheels.com/used-cars/mg-hs-2022...  "
            ]
          },
          "execution_count": 3,
          "metadata": {},
          "output_type": "execute_result"
        }
      ],
      "source": [
        "# Loading and cleaning the csv file\n",
        "import numpy as np\n",
        "import pandas as pd\n",
        "import matplotlib.pyplot as plt\n",
        "\n",
        "\n",
        "\n",
        "# Read data from file 'pakWheels.csv'\n",
        "data = pd.read_csv('pakWheels.csv')\n",
        "data.head()\n",
        "\n"
      ]
    },
    {
      "cell_type": "code",
      "execution_count": 4,
      "metadata": {
        "colab": {
          "base_uri": "https://localhost:8080/"
        },
        "id": "l7tZx_abeESe",
        "outputId": "5f58e749-e806-49ce-e319-c0a3aad543e4"
      },
      "outputs": [
        {
          "data": {
            "text/plain": [
              "(57783, 16)"
            ]
          },
          "execution_count": 4,
          "metadata": {},
          "output_type": "execute_result"
        }
      ],
      "source": [
        "# Size of dataset\n",
        "\n",
        "data.shape"
      ]
    },
    {
      "cell_type": "markdown",
      "metadata": {
        "id": "CsTHPd8MX3ZZ"
      },
      "source": [
        "# **Data Processing**"
      ]
    },
    {
      "cell_type": "markdown",
      "metadata": {
        "id": "JQmSLKKgsLJC"
      },
      "source": [
        "## Data Cleaning"
      ]
    },
    {
      "cell_type": "code",
      "execution_count": 5,
      "metadata": {
        "colab": {
          "base_uri": "https://localhost:8080/"
        },
        "id": "VrZNG4w9qV4i",
        "outputId": "6a36c54f-7cd6-46f5-ca07-85b9582eb7ee"
      },
      "outputs": [
        {
          "data": {
            "text/plain": [
              "Ad No                 0\n",
              "Name                  0\n",
              "Price                 0\n",
              "Model Year            0\n",
              "Location              0\n",
              "Mileage               0\n",
              "Registered City       0\n",
              "Engine Type         502\n",
              "Engine Capacity      86\n",
              "Transmission          0\n",
              "Color                 0\n",
              "Assembly              0\n",
              "Body Type          5583\n",
              "Features           3413\n",
              "Last Updated          0\n",
              "URL                   0\n",
              "dtype: int64"
            ]
          },
          "execution_count": 5,
          "metadata": {},
          "output_type": "execute_result"
        }
      ],
      "source": [
        "# Check for any missing values\n",
        "\n",
        "data.isna().sum()   # This show the number of missing values for each attribute"
      ]
    },
    {
      "cell_type": "code",
      "execution_count": 6,
      "metadata": {
        "id": "KvG4EI-RdlKD"
      },
      "outputs": [],
      "source": [
        "# Remove missing values\n",
        "data = data.dropna(axis=0)"
      ]
    },
    {
      "cell_type": "code",
      "execution_count": 7,
      "metadata": {
        "colab": {
          "base_uri": "https://localhost:8080/"
        },
        "id": "UIiBd-cndweC",
        "outputId": "435a4cfe-50f2-4588-b9eb-95d26d457945"
      },
      "outputs": [
        {
          "data": {
            "text/plain": [
              "Ad No              0\n",
              "Name               0\n",
              "Price              0\n",
              "Model Year         0\n",
              "Location           0\n",
              "Mileage            0\n",
              "Registered City    0\n",
              "Engine Type        0\n",
              "Engine Capacity    0\n",
              "Transmission       0\n",
              "Color              0\n",
              "Assembly           0\n",
              "Body Type          0\n",
              "Features           0\n",
              "Last Updated       0\n",
              "URL                0\n",
              "dtype: int64"
            ]
          },
          "execution_count": 7,
          "metadata": {},
          "output_type": "execute_result"
        }
      ],
      "source": [
        "# All the missing values are now removed\n",
        "\n",
        "data.isna().sum()"
      ]
    },
    {
      "cell_type": "code",
      "execution_count": 8,
      "metadata": {
        "colab": {
          "base_uri": "https://localhost:8080/"
        },
        "id": "rSyZwbwHeONM",
        "outputId": "d11b047b-f126-46c7-9c7c-89271573360c"
      },
      "outputs": [
        {
          "data": {
            "text/plain": [
              "(50259, 16)"
            ]
          },
          "execution_count": 8,
          "metadata": {},
          "output_type": "execute_result"
        }
      ],
      "source": [
        "# Size after removing missing values\n",
        "\n",
        "data.shape"
      ]
    },
    {
      "cell_type": "code",
      "execution_count": 9,
      "metadata": {
        "colab": {
          "base_uri": "https://localhost:8080/"
        },
        "id": "al6Y0WCAqV4j",
        "outputId": "bc15c7d2-8772-42a5-cc49-9794a5d5b127"
      },
      "outputs": [],
      "source": [
        "# Cleaning the data\n",
        "\n",
        "# Remove Ad No, URL and Last Updated columns from the dataset\n",
        "data.drop('Ad No', axis=1, inplace=True)\n",
        "data.drop('URL', axis=1, inplace=True)\n",
        "data.drop('Last Updated', axis=1, inplace=True)\n",
        "data.drop('Location', axis=1, inplace=True)\n",
        "data.drop('Features', axis=1, inplace=True)\n",
        "\n",
        "# Convert 'Price' column to numeric values\n",
        "data['Price'] = pd.to_numeric(data['Price'], errors='coerce')   # errors='coerce' will replace any non-numeric values with NaN\n",
        "# In Price at some places there was Call for price so that will be converted into NaN after that i will drop those rows\n",
        "\n",
        "data = data.dropna(subset=['Price'], axis=0)    # Drop any rows with NaN values in the 'Price' column\n",
        "data = data.dropna(subset=['Engine Type'], axis=0)\n",
        "data = data.dropna(subset=['Engine Capacity'], axis=0)\n",
        "data = data.dropna(subset=['Body Type'], axis=0)\n",
        "\n",
        "\n",
        "# Convert names from Panda Series into a new list\n",
        "names = data['Name']\n",
        "names_list = names.tolist()\n",
        "#print(type(names_list))\n",
        "\n",
        "# Assigning two new lists to store company and model names\n",
        "company_list = []\n",
        "model_list = []\n",
        "for name in names_list:\n",
        "    # Create a separate list for company and model\n",
        "     company_list.append(name.split()[0])\n",
        "     model_list.append(name.split()[1]+' '+name.split()[2])  # Suppose if the model name consist of two words\n",
        "\n",
        "# Append model and company\n",
        "data.insert(0, 'Company', company_list)\n",
        "data.insert(1, 'Model', model_list)\n",
        "\n",
        "# Remove CC from the end of engine capacity and convert it into numeric\n",
        "data['Engine Capacity'] = data['Engine Capacity'].str.replace('cc', '')\n",
        "data['Engine Capacity'] = pd.to_numeric(data['Engine Capacity'], errors='coerce')   # errors='coerce' will replace any non-numeric values with NaN\n",
        "\n",
        "\n",
        "\n",
        "data.drop('Name', axis=1, inplace=True)\n",
        "data['Price'] = data['Price']\n"
      ]
    },
    {
      "cell_type": "code",
      "execution_count": 10,
      "metadata": {
        "colab": {
          "base_uri": "https://localhost:8080/",
          "height": 313
        },
        "id": "BGAid_8wqV4k",
        "outputId": "8ce668db-2f66-4ade-bb1d-92dca7d950b2"
      },
      "outputs": [
        {
          "data": {
            "text/html": [
              "<div>\n",
              "<style scoped>\n",
              "    .dataframe tbody tr th:only-of-type {\n",
              "        vertical-align: middle;\n",
              "    }\n",
              "\n",
              "    .dataframe tbody tr th {\n",
              "        vertical-align: top;\n",
              "    }\n",
              "\n",
              "    .dataframe thead th {\n",
              "        text-align: right;\n",
              "    }\n",
              "</style>\n",
              "<table border=\"1\" class=\"dataframe\">\n",
              "  <thead>\n",
              "    <tr style=\"text-align: right;\">\n",
              "      <th></th>\n",
              "      <th>Company</th>\n",
              "      <th>Model</th>\n",
              "      <th>Price</th>\n",
              "      <th>Model Year</th>\n",
              "      <th>Mileage</th>\n",
              "      <th>Registered City</th>\n",
              "      <th>Engine Type</th>\n",
              "      <th>Engine Capacity</th>\n",
              "      <th>Transmission</th>\n",
              "      <th>Color</th>\n",
              "      <th>Assembly</th>\n",
              "      <th>Body Type</th>\n",
              "    </tr>\n",
              "  </thead>\n",
              "  <tbody>\n",
              "    <tr>\n",
              "      <th>0</th>\n",
              "      <td>Chevrolet</td>\n",
              "      <td>Joy 1.0</td>\n",
              "      <td>975000.0</td>\n",
              "      <td>2008</td>\n",
              "      <td>144800</td>\n",
              "      <td>Islamabad</td>\n",
              "      <td>Petrol</td>\n",
              "      <td>1000</td>\n",
              "      <td>Manual</td>\n",
              "      <td>Gold</td>\n",
              "      <td>Imported</td>\n",
              "      <td>Hatchback</td>\n",
              "    </tr>\n",
              "    <tr>\n",
              "      <th>1</th>\n",
              "      <td>Toyota</td>\n",
              "      <td>Corolla GLi</td>\n",
              "      <td>3375000.0</td>\n",
              "      <td>2016</td>\n",
              "      <td>122000</td>\n",
              "      <td>Lahore</td>\n",
              "      <td>Petrol</td>\n",
              "      <td>1300</td>\n",
              "      <td>Manual</td>\n",
              "      <td>White</td>\n",
              "      <td>Local</td>\n",
              "      <td>Sedan</td>\n",
              "    </tr>\n",
              "    <tr>\n",
              "      <th>2</th>\n",
              "      <td>Honda</td>\n",
              "      <td>BR-V i-VTEC</td>\n",
              "      <td>4800000.0</td>\n",
              "      <td>2018</td>\n",
              "      <td>18731</td>\n",
              "      <td>Lahore</td>\n",
              "      <td>Petrol</td>\n",
              "      <td>1500</td>\n",
              "      <td>Automatic</td>\n",
              "      <td>Crystal Black Pearl</td>\n",
              "      <td>Local</td>\n",
              "      <td>MPV</td>\n",
              "    </tr>\n",
              "    <tr>\n",
              "      <th>3</th>\n",
              "      <td>Suzuki</td>\n",
              "      <td>Mehran VX</td>\n",
              "      <td>680000.0</td>\n",
              "      <td>2010</td>\n",
              "      <td>76316</td>\n",
              "      <td>Bahawalpur</td>\n",
              "      <td>Petrol</td>\n",
              "      <td>800</td>\n",
              "      <td>Manual</td>\n",
              "      <td>Blue</td>\n",
              "      <td>Local</td>\n",
              "      <td>Hatchback</td>\n",
              "    </tr>\n",
              "    <tr>\n",
              "      <th>4</th>\n",
              "      <td>MG</td>\n",
              "      <td>HS 1.5</td>\n",
              "      <td>8000000.0</td>\n",
              "      <td>2022</td>\n",
              "      <td>16950</td>\n",
              "      <td>Punjab</td>\n",
              "      <td>Petrol</td>\n",
              "      <td>1490</td>\n",
              "      <td>Automatic</td>\n",
              "      <td>Black</td>\n",
              "      <td>Local</td>\n",
              "      <td>Crossover</td>\n",
              "    </tr>\n",
              "  </tbody>\n",
              "</table>\n",
              "</div>"
            ],
            "text/plain": [
              "     Company        Model      Price  Model Year  Mileage Registered City  \\\n",
              "0  Chevrolet      Joy 1.0   975000.0        2008   144800       Islamabad   \n",
              "1     Toyota  Corolla GLi  3375000.0        2016   122000          Lahore   \n",
              "2      Honda  BR-V i-VTEC  4800000.0        2018    18731          Lahore   \n",
              "3     Suzuki    Mehran VX   680000.0        2010    76316      Bahawalpur   \n",
              "4         MG       HS 1.5  8000000.0        2022    16950          Punjab   \n",
              "\n",
              "  Engine Type  Engine Capacity Transmission                Color  Assembly  \\\n",
              "0      Petrol             1000       Manual                 Gold  Imported   \n",
              "1      Petrol             1300       Manual                White     Local   \n",
              "2      Petrol             1500    Automatic  Crystal Black Pearl     Local   \n",
              "3      Petrol              800       Manual                 Blue     Local   \n",
              "4      Petrol             1490    Automatic                Black     Local   \n",
              "\n",
              "   Body Type  \n",
              "0  Hatchback  \n",
              "1      Sedan  \n",
              "2        MPV  \n",
              "3  Hatchback  \n",
              "4  Crossover  "
            ]
          },
          "execution_count": 10,
          "metadata": {},
          "output_type": "execute_result"
        }
      ],
      "source": [
        "# View the cleaned data for understanding purpose\n",
        "\n",
        "data.head()"
      ]
    },
    {
      "cell_type": "code",
      "execution_count": 11,
      "metadata": {
        "colab": {
          "base_uri": "https://localhost:8080/"
        },
        "id": "SyVIJdhZfd31",
        "outputId": "5ac52798-9ec0-4439-c960-c36ca873fd36"
      },
      "outputs": [
        {
          "data": {
            "text/plain": [
              "(49778, 12)"
            ]
          },
          "execution_count": 11,
          "metadata": {},
          "output_type": "execute_result"
        }
      ],
      "source": [
        "data.shape"
      ]
    }
  ],
  "metadata": {
    "colab": {
      "provenance": [],
      "toc_visible": true
    },
    "kernelspec": {
      "display_name": "\"Python/Mu (mu_venv-38-20230810-143051)\"",
      "language": "python",
      "name": "mu_venv-38-20230810-143051"
    },
    "language_info": {
      "codemirror_mode": {
        "name": "ipython",
        "version": 3
      },
      "file_extension": ".py",
      "mimetype": "text/x-python",
      "name": "python",
      "nbconvert_exporter": "python",
      "pygments_lexer": "ipython3",
      "version": "3.8.12"
    }
  },
  "nbformat": 4,
  "nbformat_minor": 0
}
