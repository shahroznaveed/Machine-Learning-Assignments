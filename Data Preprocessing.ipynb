{
 "cells": [
  {
   "cell_type": "code",
   "execution_count": 10,
   "metadata": {},
   "outputs": [],
   "source": [
    "import numpy as np \n"
   ]
  },
  {
   "cell_type": "code",
   "execution_count": 11,
   "metadata": {},
   "outputs": [],
   "source": [
    "def print_data(data, n=10):\n",
    "    for i in range(n):\n",
    "        print(data[i])\n",
    "    print(len(data),'x',len(cols))"
   ]
  },
  {
   "cell_type": "code",
   "execution_count": 20,
   "metadata": {},
   "outputs": [
    {
     "name": "stdout",
     "output_type": "stream",
     "text": [
      "DATA: \n",
      "['sepal_length', 'sepal_width', 'petal_length', 'petal_width', 'class']\n",
      "[4.9, nan, 1.4, 0.2, 'Iris-setosa']\n",
      "[4.7, 3.2, 1.3, 0.2, 'Iris-setosa']\n",
      "[4.6, 3.1, 1.5, 0.2, 'Iris-setosa']\n",
      "[5.0, 3.6, 1.4, 0.2, 'Iris-setosa']\n",
      "[5.4, 3.9, 1.7, 0.4, 'Iris-setosa']\n",
      "149 x 5\n"
     ]
    }
   ],
   "source": [
    "data = np.genfromtxt('bezdekIris.csv', delimiter=',', skip_header=1, filling_values=None, dtype=None, encoding=None)\n",
    "df = list(list(row) for row in data)\n",
    "with open('bezdekIris.csv', 'r') as file:\n",
    "    header_line = file.readline().strip()\n",
    "    cols = header_line.split(',')\n",
    "print(\"DATA: \")\n",
    "print(cols)\n",
    "print_data(df,5)\n",
    "\n"
   ]
  },
  {
   "cell_type": "code",
   "execution_count": 21,
   "metadata": {},
   "outputs": [
    {
     "name": "stdout",
     "output_type": "stream",
     "text": [
      "Null Values\n",
      "sepal_length: 2\n",
      "sepal_width: 2\n",
      "petal_length: 1\n",
      "petal_width: 0\n",
      "class: 0\n"
     ]
    }
   ],
   "source": [
    "\n",
    "import pandas as pd\n",
    "\n",
    "def isnull_sum(data, cols):\n",
    "    df = pd.DataFrame(data, columns=cols)\n",
    "    null_counts = df.isnull().sum()\n",
    "    \n",
    "    print('Null Values')\n",
    "    for col, count in null_counts.items():\n",
    "        print(f'{col}: {count}')\n",
    "\n",
    "# Example usage:\n",
    "# Assuming df is your DataFrame and cols is a list of column names\n",
    "isnull_sum(df, cols)\n"
   ]
  },
  {
   "cell_type": "code",
   "execution_count": 22,
   "metadata": {},
   "outputs": [
    {
     "name": "stdout",
     "output_type": "stream",
     "text": [
      "Null Values\n",
      "sepal_length :  2\n",
      "sepal_width :  2\n",
      "petal_length :  1\n",
      "petal_width :  0\n",
      "class :  0\n"
     ]
    }
   ],
   "source": [
    "def isnull_sum(data,cols):\n",
    "    n = len(data[0])\n",
    "    print('Null Values')\n",
    "    for i in range(n):\n",
    "        s = 0\n",
    "        if isinstance(data[0][i], str):\n",
    "            for j in range(len(data)):\n",
    "                if data[j][i] == 'none' :\n",
    "                    s += 1\n",
    "            print(cols[i],': ', s)\n",
    "        else:\n",
    "            for j in range(len(data)):\n",
    "                if np.isnan(data[j][i]):\n",
    "                    s += 1\n",
    "            print(cols[i],': ', s)\n",
    "\n",
    "isnull_sum(df,cols)\n",
    "\n",
    "\n"
   ]
  },
  {
   "cell_type": "code",
   "execution_count": 23,
   "metadata": {},
   "outputs": [],
   "source": [
    "def fill_values(data, col, filling='mean'):\n",
    "    from statistics import mode\n",
    "    for i in range(len(cols)):\n",
    "        if col == cols[i]:\n",
    "            j = i\n",
    "            break\n",
    "    else:\n",
    "        print(\"Column not found\")\n",
    "        return\n",
    "    \n",
    "    if filling == 'mean':\n",
    "        s, n = 0, 0\n",
    "        for i in range(len(data)):\n",
    "            if not np.isnan(data[i][j]):\n",
    "                s += data[i][j]\n",
    "                n += 1\n",
    "        mean = s / n\n",
    "        for i in range(len(data)):\n",
    "            if np.isnan(data[i][j]):\n",
    "                data[i][j] = mean\n",
    "                \n",
    "    elif filling == 'median':\n",
    "        l = []\n",
    "        for i in range(len(data)):\n",
    "            if not np.isnan(data[i][j]):\n",
    "                l.append(data[i][j])\n",
    "        l.sort()\n",
    "        median = l[len(l)//2]\n",
    "        for i in range(len(data)):\n",
    "            if np.isnan(data[i][j]):\n",
    "                data[i][j] = median\n",
    "\n",
    "    elif filling == 'mode':\n",
    "        l = []\n",
    "        for i in range(len(data)):\n",
    "            if not np.isnan(data[i][j]):\n",
    "                l.append(data[i][j])\n",
    "        mode_value = mode(l)\n",
    "        for i in range(len(data)):\n",
    "            if np.isnan(data[i][j]):\n",
    "                data[i][j] = mode_value\n",
    "\n",
    "\n",
    "\n"
   ]
  },
  {
   "cell_type": "code",
   "execution_count": 32,
   "metadata": {},
   "outputs": [
    {
     "name": "stdout",
     "output_type": "stream",
     "text": [
      "Null Values\n",
      "sepal_length :  0\n",
      "sepal_width :  0\n",
      "petal_length :  0\n",
      "petal_width :  0\n",
      "class :  0\n",
      "[0.17, 0.44, 1.4, 0.2, 1]\n",
      "[0.11, 0.5, 1.3, 0.2, 1]\n",
      "[0.08, 0.46, 1.5, 0.2, 1]\n",
      "[0.19, 0.67, 1.4, 0.2, 1]\n",
      "[0.31, 0.79, 1.7, 0.4, 1]\n",
      "149 x 5\n"
     ]
    }
   ],
   "source": [
    "fill_values(df,'sepal_width')\n",
    "fill_values(df,'sepal_length')\n",
    "fill_values(df,'petal_length')\n",
    "isnull_sum(df, cols)\n",
    "print_data(df,5)"
   ]
  },
  {
   "cell_type": "code",
   "execution_count": 34,
   "metadata": {},
   "outputs": [],
   "source": [
    "def LabelEncoding(df, col):\n",
    "    column_index = cols.index(col)\n",
    "    column = [row[column_index] for row in df]\n",
    "    distinct_values = list(set(column))\n",
    "    encoding_map = {value: index for index, value in enumerate(distinct_values)}\n",
    "\n",
    "    for row in df:\n",
    "        row[column_index] = encoding_map[row[column_index]]\n",
    "\n",
    "    \n"
   ]
  },
  {
   "cell_type": "code",
   "execution_count": 35,
   "metadata": {},
   "outputs": [
    {
     "name": "stdout",
     "output_type": "stream",
     "text": [
      "[0.17, 0.44, 1.4, 0.2, 1]\n",
      "[0.11, 0.5, 1.3, 0.2, 1]\n",
      "[0.08, 0.46, 1.5, 0.2, 1]\n",
      "[0.19, 0.67, 1.4, 0.2, 1]\n",
      "[0.31, 0.79, 1.7, 0.4, 1]\n",
      "[0.08, 0.58, 1.4, 0.3, 1]\n",
      "[0.19, 0.58, 1.5, 0.2, 1]\n",
      "[0.03, 0.37, 1.4, 0.2, 1]\n",
      "[0.17, 0.46, 1.5, 0.1, 1]\n",
      "[0.31, 0.71, 1.5, 0.2, 1]\n",
      "[0.14, 0.58, 1.6, 0.2, 1]\n",
      "[0.14, 0.44, 1.4, 0.1, 1]\n",
      "[0.0, 0.42, 1.1, 0.1, 1]\n",
      "[0.42, 0.83, 1.2, 0.2, 1]\n",
      "[0.39, 1.0, 1.5, 0.4, 1]\n",
      "[0.31, 0.79, 1.3, 0.4, 1]\n",
      "[0.22, 0.62, 1.4, 0.3, 1]\n",
      "[0.39, 0.75, 1.7, 0.3, 1]\n",
      "[0.22, 0.75, 1.5, 0.3, 1]\n",
      "[0.31, 0.58, 1.7, 0.2, 1]\n",
      "[0.22, 0.71, 3.7891891891891913, 0.4, 1]\n",
      "[0.08, 0.67, 1.0, 0.2, 1]\n",
      "[0.22, 0.54, 1.7, 0.5, 1]\n",
      "[0.14, 0.58, 1.9, 0.2, 1]\n",
      "[0.19, 0.42, 1.6, 0.2, 1]\n",
      "[0.19, 0.58, 1.6, 0.4, 1]\n",
      "[0.25, 0.62, 1.5, 0.2, 1]\n",
      "[0.4311564625850341, 0.58, 1.4, 0.2, 1]\n",
      "[0.11, 0.5, 1.6, 0.2, 1]\n",
      "[0.14, 0.46, 1.6, 0.2, 1]\n",
      "[0.31, 0.58, 1.5, 0.4, 1]\n",
      "[0.25, 0.87, 1.5, 0.1, 1]\n",
      "[0.33, 0.92, 1.4, 0.2, 1]\n",
      "[0.17, 0.46, 1.5, 0.2, 1]\n",
      "[0.19, 0.5, 1.2, 0.2, 1]\n",
      "[0.33, 0.62, 1.3, 0.2, 1]\n",
      "[0.17, 0.67, 1.4, 0.1, 1]\n",
      "[0.03, 0.42, 1.3, 0.2, 1]\n",
      "[0.22, 0.58, 1.5, 0.2, 1]\n",
      "[0.19, 0.62, 1.3, 0.3, 1]\n",
      "[0.06, 0.12, 1.3, 0.3, 1]\n",
      "[0.03, 0.5, 1.3, 0.2, 1]\n",
      "[0.19, 0.62, 1.6, 0.6, 1]\n",
      "[0.22, 0.75, 1.9, 0.4, 1]\n",
      "[0.14, 0.42, 1.4, 0.3, 1]\n",
      "[0.22, 0.75, 1.6, 0.2, 1]\n",
      "[0.08, 0.5, 1.4, 0.2, 1]\n",
      "[0.28, 0.71, 1.5, 0.2, 1]\n",
      "[0.19, 0.54, 1.4, 0.2, 1]\n",
      "[0.75, 0.5, 4.7, 1.4, 2]\n",
      "149 x 5\n"
     ]
    }
   ],
   "source": [
    "LabelEncoding(df, 'class')\n",
    "\n",
    "print_data(df, 50)\n"
   ]
  },
  {
   "cell_type": "code",
   "execution_count": 36,
   "metadata": {},
   "outputs": [],
   "source": [
    "def MinMaxScaling(df, col):\n",
    "    column_index = cols.index(col)\n",
    "    column = [row[column_index] for row in df]\n",
    "\n",
    "    min_val = min(column)\n",
    "    max_val = max(column)\n",
    "    \n",
    "\n",
    "    for row in df:\n",
    "        if max_val - min_val != 0:\n",
    "            row[column_index] = round((row[column_index] - min_val) / (max_val - min_val),2)\n",
    "        else:\n",
    "            row[column_index] = 0.5  \n",
    "\n"
   ]
  },
  {
   "cell_type": "code",
   "execution_count": 37,
   "metadata": {},
   "outputs": [
    {
     "name": "stdout",
     "output_type": "stream",
     "text": [
      "[0.17, 0.44, 1.4, 0.2, 1]\n",
      "[0.11, 0.5, 1.3, 0.2, 1]\n",
      "[0.08, 0.46, 1.5, 0.2, 1]\n",
      "[0.19, 0.67, 1.4, 0.2, 1]\n",
      "149 x 5\n"
     ]
    }
   ],
   "source": [
    "MinMaxScaling(df,'sepal_length')\n",
    "MinMaxScaling(df, 'sepal_width')\n",
    "print_data(df,4)"
   ]
  },
  {
   "cell_type": "code",
   "execution_count": 31,
   "metadata": {},
   "outputs": [
    {
     "name": "stdout",
     "output_type": "stream",
     "text": [
      "[0.17, 0.44, 1.4, 0.2, 1]\n",
      "[0.11, 0.5, 1.3, 0.2, 1]\n",
      "[0.08, 0.46, 1.5, 0.2, 1]\n",
      "[0.19, 0.67, 1.4, 0.2, 1]\n",
      "[0.31, 0.79, 1.7, 0.4, 1]\n",
      "[0.08, 0.58, 1.4, 0.3, 1]\n",
      "[0.19, 0.58, 1.5, 0.2, 1]\n",
      "[0.03, 0.37, 1.4, 0.2, 1]\n",
      "[0.17, 0.46, 1.5, 0.1, 1]\n",
      "[0.31, 0.71, 1.5, 0.2, 1]\n",
      "149 x 5\n"
     ]
    }
   ],
   "source": [
    "def drop_col(df, col):\n",
    "    i = cols.index(col)\n",
    "    cols.remove(cols[i])\n",
    "    for row in df:\n",
    "        del row[i]\n",
    "print_data(df,10)"
   ]
  }
 ],
 "metadata": {
  "kernelspec": {
   "display_name": "\"Python/Mu (mu_venv-38-20230810-143051)\"",
   "language": "python",
   "name": "mu_venv-38-20230810-143051"
  },
  "language_info": {
   "codemirror_mode": {
    "name": "ipython",
    "version": 3
   },
   "file_extension": ".py",
   "mimetype": "text/x-python",
   "name": "python",
   "nbconvert_exporter": "python",
   "pygments_lexer": "ipython3",
   "version": "3.8.12"
  }
 },
 "nbformat": 4,
 "nbformat_minor": 2
}
